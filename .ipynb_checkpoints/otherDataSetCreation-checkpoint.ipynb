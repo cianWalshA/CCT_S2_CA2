{
 "cells": [
  {
   "cell_type": "code",
   "execution_count": 24,
   "id": "f0cb5cd7",
   "metadata": {},
   "outputs": [],
   "source": [
    "import pandas as pd\n",
    "pd.set_option('display.max_rows', 500)\n",
    "pd.set_option('display.max_columns', 500)\n",
    "pd.set_option('display.width', 1000)\n",
    "pd.set_option('display.max_colwidth', None)\n",
    "import urllib.request\n",
    "import pymongo\n",
    "import json\n",
    "import re\n",
    "import string\n",
    "import nltk\n",
    "import emoji\n",
    "from pathlib import Path\n",
    "import glob\n",
    "\n",
    "from nltk.corpus import stopwords\n",
    "from nltk.stem import WordNetLemmatizer\n",
    "from textblob import TextBlob"
   ]
  },
  {
   "cell_type": "code",
   "execution_count": 32,
   "id": "78a0ccf2",
   "metadata": {},
   "outputs": [],
   "source": [
    "infile = '/home/hduser/college/assign2/data/russian'\n",
    "#infile ='/mnt/c/Users/cianw/Downloads/iraTweets'\n",
    "#https://raw.githubusercontent.com"
   ]
  },
  {
   "cell_type": "code",
   "execution_count": 17,
   "id": "4df5a0a0",
   "metadata": {},
   "outputs": [],
   "source": [
    "#https://github.com/fivethirtyeight/russian-troll-tweets/blob/master/IRAhandle_tweets_4.csv"
   ]
  },
  {
   "cell_type": "code",
   "execution_count": 29,
   "id": "a56dd101",
   "metadata": {},
   "outputs": [
    {
     "name": "stdout",
     "output_type": "stream",
     "text": [
      "1 Completed\n",
      "2 Completed\n",
      "3 Completed\n",
      "4 Completed\n",
      "5 Completed\n",
      "6 Completed\n",
      "7 Completed\n",
      "8 Completed\n",
      "9 Completed\n",
      "10 Completed\n",
      "11 Completed\n",
      "12 Completed\n",
      "13 Completed\n"
     ]
    }
   ],
   "source": [
    "for i in range(1,14):\n",
    "    urllib.request.urlretrieve(rf\"https://raw.githubusercontent.com/fivethirtyeight/russian-troll-tweets/master/IRAhandle_tweets_{i}.csv\", rf\"{infile}/IRAhandle_tweets_{i}.csv\")\n",
    "    print(str(i)+ ' Completed')"
   ]
  },
  {
   "cell_type": "code",
   "execution_count": 34,
   "id": "23326755",
   "metadata": {},
   "outputs": [
    {
     "name": "stderr",
     "output_type": "stream",
     "text": [
      "/tmp/ipykernel_682/2176359886.py:5: DtypeWarning: Columns (10,20) have mixed types. Specify dtype option on import or set low_memory=False.\n",
      "  file_list = pd.concat([pd.read_csv(filename, sep=\",\") for filename in names])\n",
      "/tmp/ipykernel_682/2176359886.py:5: DtypeWarning: Columns (0,15,20) have mixed types. Specify dtype option on import or set low_memory=False.\n",
      "  file_list = pd.concat([pd.read_csv(filename, sep=\",\") for filename in names])\n",
      "/tmp/ipykernel_682/2176359886.py:5: DtypeWarning: Columns (20) have mixed types. Specify dtype option on import or set low_memory=False.\n",
      "  file_list = pd.concat([pd.read_csv(filename, sep=\",\") for filename in names])\n"
     ]
    }
   ],
   "source": [
    "names = glob.glob(infile + \"/*.csv\") # get names of all CSV files under path\n",
    "\n",
    "file_list = pd.concat([pd.read_csv(filename, sep=\",\") for filename in names])\n",
    "\n",
    "#save the DataFrame to a file\n",
    "file_list.to_csv(rf\"{infile}/combinedTweets.csv\")"
   ]
  },
  {
   "cell_type": "code",
   "execution_count": 38,
   "id": "45bff2a2",
   "metadata": {},
   "outputs": [
    {
     "name": "stderr",
     "output_type": "stream",
     "text": [
      "/tmp/ipykernel_682/133036175.py:1: DtypeWarning: Columns (1,11,16,21) have mixed types. Specify dtype option on import or set low_memory=False.\n",
      "  df = pd.read_csv(rf\"{infile}/combinedTweets.csv\")\n"
     ]
    }
   ],
   "source": [
    "df = pd.read_csv(rf\"{infile}/combinedTweets.csv\")"
   ]
  },
  {
   "cell_type": "code",
   "execution_count": 42,
   "id": "dd603b43",
   "metadata": {},
   "outputs": [],
   "source": [
    "df = df[(df['language']=='English') & (df['retweet']==0 )]"
   ]
  },
  {
   "cell_type": "code",
   "execution_count": 43,
   "id": "36bc9cdb",
   "metadata": {},
   "outputs": [],
   "source": [
    "client = pymongo.MongoClient(\"mongodb://localhost:27017/\")\n",
    "# Database Name\n",
    "db = client[\"collegedb\"]\n",
    "# Collection Name\n",
    "collection = db[\"russianTrolls\"]"
   ]
  },
  {
   "cell_type": "raw",
   "id": "7730fccc",
   "metadata": {},
   "source": [
    "# Loop through each file in the input folder\n",
    "count=0\n",
    "\n",
    "for filename in os.listdir(infile):\n",
    "    if filename.endswith('.csv.gzip'):\n",
    "        print(f'Reading file: {filename}')\n",
    "        \n",
    "        # Read the CSV.GZ file into a Pandas dataframe\n",
    "        filepath = os.path.join(infile, filename)\n",
    "        df = pd.read_csv(filepath, compression='gzip')\n",
    "        \n",
    "        # Append the data to the output file\n",
    "        if count==0:\n",
    "            df.to_csv(outfile, mode='w', header=True, index=False)\n",
    "        else:\n",
    "            df.to_csv(outfile, mode='a', header=False, index=False)\n",
    "        print(f'Appended {len(df)} rows to output file')\n",
    "        count+=1\n",
    "        print(count)"
   ]
  },
  {
   "cell_type": "code",
   "execution_count": 44,
   "id": "4b1ffe8d",
   "metadata": {},
   "outputs": [
    {
     "data": {
      "text/plain": [
       "<pymongo.results.InsertManyResult at 0x7fa9143aa6c0>"
      ]
     },
     "execution_count": 44,
     "metadata": {},
     "output_type": "execute_result"
    }
   ],
   "source": [
    "db.collection.insert_many(df.to_dict('records'))"
   ]
  },
  {
   "cell_type": "code",
   "execution_count": null,
   "id": "00229a13",
   "metadata": {},
   "outputs": [],
   "source": []
  }
 ],
 "metadata": {
  "kernelspec": {
   "display_name": "Python 3 (ipykernel)",
   "language": "python",
   "name": "python3"
  },
  "language_info": {
   "codemirror_mode": {
    "name": "ipython",
    "version": 3
   },
   "file_extension": ".py",
   "mimetype": "text/x-python",
   "name": "python",
   "nbconvert_exporter": "python",
   "pygments_lexer": "ipython3",
   "version": "3.10.6"
  }
 },
 "nbformat": 4,
 "nbformat_minor": 5
}
