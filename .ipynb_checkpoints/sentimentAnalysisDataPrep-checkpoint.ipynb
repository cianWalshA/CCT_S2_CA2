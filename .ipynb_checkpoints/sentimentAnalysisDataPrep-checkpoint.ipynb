{
 "cells": [
  {
   "cell_type": "code",
   "execution_count": 1,
   "id": "369379cc",
   "metadata": {},
   "outputs": [
    {
     "name": "stderr",
     "output_type": "stream",
     "text": [
      "[nltk_data] Downloading package stopwords to /home/hduser/nltk_data...\n",
      "[nltk_data]   Package stopwords is already up-to-date!\n",
      "[nltk_data] Downloading package punkt to /home/hduser/nltk_data...\n",
      "[nltk_data]   Package punkt is already up-to-date!\n",
      "[nltk_data] Downloading package wordnet to /home/hduser/nltk_data...\n",
      "[nltk_data]   Package wordnet is already up-to-date!\n"
     ]
    }
   ],
   "source": [
    "#Import Libraries\n",
    "import pandas as pd\n",
    "import numpy as np\n",
    "import seaborn as sns\n",
    "pd.set_option('display.max_rows', 5000)\n",
    "pd.set_option('display.max_columns', 5000)\n",
    "pd.set_option('display.width', 1000)\n",
    "pd.set_option('display.max_colwidth', None)\n",
    "import pymongo\n",
    "import json\n",
    "import re\n",
    "import string\n",
    "import nltk\n",
    "import emoji\n",
    "import matplotlib.pyplot as plt\n",
    "from datetime import datetime\n",
    "\n",
    "from nltk.corpus import stopwords\n",
    "from nltk.stem import WordNetLemmatizer\n",
    "from textblob import TextBlob\n",
    "\n",
    "import text2emotion as te"
   ]
  },
  {
   "cell_type": "markdown",
   "id": "13f28c48",
   "metadata": {},
   "source": [
    "# Insert Data into Mongo"
   ]
  },
  {
   "cell_type": "code",
   "execution_count": 2,
   "id": "a2e690d1",
   "metadata": {},
   "outputs": [],
   "source": [
    "#Set up variables to access MongoDB\n",
    "client = pymongo.MongoClient(\"mongodb://localhost:27017/\")\n",
    "# Database Name\n",
    "database = client[\"collegedb\"]\n",
    "# Collection Name\n",
    "collection = database[\"senators\"]\n",
    "collectionSentiment = database[\"senatorsSent\"]\n",
    "collectionSentiment2 = database[\"senatorsSent2\"]\n",
    "tweetDailyAggregate = database[\"senatorsAgg\"]"
   ]
  },
  {
   "cell_type": "raw",
   "id": "7ee7d00e",
   "metadata": {},
   "source": [
    "infile = '/home/hduser/college/assign2/data/senators.csv'"
   ]
  },
  {
   "cell_type": "raw",
   "id": "78a67c50",
   "metadata": {},
   "source": [
    "senatorsCSV = pd.read_csv(infile, encoding = 'latin1')"
   ]
  },
  {
   "cell_type": "raw",
   "id": "4c143d03",
   "metadata": {},
   "source": [
    "collection.insert_many(senatorsCSV.to_dict('records'))"
   ]
  },
  {
   "cell_type": "markdown",
   "id": "f40e606b",
   "metadata": {},
   "source": [
    "# Access Mongo and import data"
   ]
  },
  {
   "cell_type": "code",
   "execution_count": 3,
   "id": "cbe23b52",
   "metadata": {},
   "outputs": [
    {
     "data": {
      "text/plain": [
       "Collection(Database(MongoClient(host=['localhost:27017'], document_class=dict, tz_aware=False, connect=True), 'collegedb'), 'senators')"
      ]
     },
     "execution_count": 3,
     "metadata": {},
     "output_type": "execute_result"
    }
   ],
   "source": [
    "# Show connection\n",
    "collection"
   ]
  },
  {
   "cell_type": "code",
   "execution_count": 4,
   "id": "80542907",
   "metadata": {},
   "outputs": [],
   "source": [
    "tweets = pd.DataFrame.from_records(list(collection.find()))"
   ]
  },
  {
   "cell_type": "raw",
   "id": "a5643c62",
   "metadata": {},
   "source": [
    "tweets.head(5)"
   ]
  },
  {
   "cell_type": "code",
   "execution_count": 5,
   "id": "9eb65d4c",
   "metadata": {},
   "outputs": [
    {
     "name": "stderr",
     "output_type": "stream",
     "text": [
      "/tmp/ipykernel_10270/4046566047.py:1: UserWarning: Could not infer format, so each element will be parsed individually, falling back to `dateutil`. To ensure parsing is consistent and as-expected, please specify a format.\n",
      "  tweets['created_at'] = pd.to_datetime(tweets['created_at'])\n"
     ]
    },
    {
     "name": "stdout",
     "output_type": "stream",
     "text": [
      "_id            0\n",
      "created_at     0\n",
      "text           0\n",
      "url            0\n",
      "replies        0\n",
      "retweets       0\n",
      "favorites      0\n",
      "user           0\n",
      "bioguide_id    0\n",
      "party          0\n",
      "state          0\n",
      "date           0\n",
      "dayNum         0\n",
      "day            0\n",
      "hour           0\n",
      "dtype: int64\n",
      "<class 'pandas.core.frame.DataFrame'>\n",
      "RangeIndex: 288615 entries, 0 to 288614\n",
      "Data columns (total 15 columns):\n",
      " #   Column       Non-Null Count   Dtype         \n",
      "---  ------       --------------   -----         \n",
      " 0   _id          288615 non-null  object        \n",
      " 1   created_at   288615 non-null  datetime64[ns]\n",
      " 2   text         288615 non-null  object        \n",
      " 3   url          288615 non-null  object        \n",
      " 4   replies      288615 non-null  int64         \n",
      " 5   retweets     288615 non-null  int64         \n",
      " 6   favorites    288615 non-null  int64         \n",
      " 7   user         288615 non-null  object        \n",
      " 8   bioguide_id  288615 non-null  object        \n",
      " 9   party        288615 non-null  object        \n",
      " 10  state        288615 non-null  object        \n",
      " 11  date         288615 non-null  datetime64[ns]\n",
      " 12  dayNum       288615 non-null  int32         \n",
      " 13  day          288615 non-null  int32         \n",
      " 14  hour         288615 non-null  int32         \n",
      "dtypes: datetime64[ns](2), int32(3), int64(3), object(7)\n",
      "memory usage: 29.7+ MB\n",
      "None\n",
      "(288615, 15)\n"
     ]
    }
   ],
   "source": [
    "tweets['created_at'] = pd.to_datetime(tweets['created_at'])\n",
    "tweets['date']=pd.to_datetime(tweets['created_at']).dt.date.astype(\"datetime64[ns]\")\n",
    "tweets['dayNum']=tweets['created_at'].dt.day\n",
    "tweets['day']=tweets['created_at'].dt.dayofweek\n",
    "tweets['hour']=tweets['created_at'].dt.hour\n",
    "\n",
    "print(tweets.isnull().sum())\n",
    "print(tweets.info())\n",
    "print(tweets.shape)\n",
    "#tweets['date'].groupby(tweets[\"date\"].dt.date).count().plot(kind=\"bar\")"
   ]
  },
  {
   "cell_type": "raw",
   "id": "a2f9e70e",
   "metadata": {},
   "source": [
    "tweets.date.min()"
   ]
  },
  {
   "cell_type": "raw",
   "id": "0e4b3230",
   "metadata": {},
   "source": [
    "tweets.date.max()"
   ]
  },
  {
   "cell_type": "code",
   "execution_count": 8,
   "id": "d9801aac",
   "metadata": {},
   "outputs": [],
   "source": [
    "df=tweets[(tweets['date'] >= '2016-7-20')&((tweets['date'] <= '2017-10-20'))]"
   ]
  },
  {
   "cell_type": "markdown",
   "id": "1ec19abd",
   "metadata": {},
   "source": [
    "# Text Cleaning and preperation for sentiment analysis"
   ]
  },
  {
   "cell_type": "code",
   "execution_count": 6,
   "id": "b8b64161",
   "metadata": {},
   "outputs": [],
   "source": [
    "def remove_duplicates(sentence):\n",
    "    words = sentence.split(\" \")\n",
    "    result = []\n",
    "    for word in words:\n",
    "        if word not in result:\n",
    "            result.append(word)\n",
    "    return \" \".join(result)\n",
    "\n",
    "def clean_text(text):\n",
    "    # Convert text to lowercase\n",
    "    text = str(text).lower()\n",
    "    # Remove urls\n",
    "    text = re.sub(r'http\\S+', '', text)\n",
    "    # Remove mentions and hashtags\n",
    "    text = re.sub(r'@\\w+|\\#\\w+', '', text)\n",
    "    # Remove emojis\n",
    "    text = (emoji.replace_emoji(text, ''))\n",
    "    # Remove punctuation\n",
    "    text = text.translate(str.maketrans('', '', string.punctuation))\n",
    "    # Remove extra chars\n",
    "    text = re.sub(r\"[^\\w\\s]+\", \"\", text)\n",
    "    # Remove Duplicates\n",
    "    text = remove_duplicates(text)\n",
    "    # Tokenize text into words\n",
    "    words = nltk.word_tokenize(text)\n",
    "    # Lemmatize words\n",
    "    lem = WordNetLemmatizer()\n",
    "    words = [lem.lemmatize(word) for word in words]\n",
    "    # Remove stop words\n",
    "    words = [word for word in words if word not in stpwrd]\n",
    "    # Join words back into text\n",
    "    text = ' '.join(words)\n",
    "    return text\n",
    "\n",
    "def count_words(s):\n",
    "    return len(s.split())"
   ]
  },
  {
   "cell_type": "code",
   "execution_count": 7,
   "id": "0603809d",
   "metadata": {},
   "outputs": [
    {
     "data": {
      "text/plain": [
       "(288615, 15)"
      ]
     },
     "execution_count": 7,
     "metadata": {},
     "output_type": "execute_result"
    }
   ],
   "source": [
    "tweets.shape"
   ]
  },
  {
   "cell_type": "code",
   "execution_count": 9,
   "id": "a7e2f25a",
   "metadata": {},
   "outputs": [
    {
     "data": {
      "text/plain": [
       "(147675, 15)"
      ]
     },
     "execution_count": 9,
     "metadata": {},
     "output_type": "execute_result"
    }
   ],
   "source": [
    "df.shape"
   ]
  },
  {
   "cell_type": "raw",
   "id": "fad2866a",
   "metadata": {},
   "source": [
    "del tweets"
   ]
  },
  {
   "cell_type": "raw",
   "id": "3f91c055",
   "metadata": {},
   "source": [
    "df['text']"
   ]
  },
  {
   "cell_type": "code",
   "execution_count": 10,
   "id": "a1413c41",
   "metadata": {},
   "outputs": [
    {
     "name": "stdout",
     "output_type": "stream",
     "text": [
      "(132042, 17)\n"
     ]
    },
    {
     "name": "stderr",
     "output_type": "stream",
     "text": [
      "/tmp/ipykernel_10270/2396548474.py:6: SettingWithCopyWarning: \n",
      "A value is trying to be set on a copy of a slice from a DataFrame.\n",
      "Try using .loc[row_indexer,col_indexer] = value instead\n",
      "\n",
      "See the caveats in the documentation: https://pandas.pydata.org/pandas-docs/stable/user_guide/indexing.html#returning-a-view-versus-a-copy\n",
      "  df['clean_text'] = df['text'].apply(clean_text)\n",
      "/tmp/ipykernel_10270/2396548474.py:7: SettingWithCopyWarning: \n",
      "A value is trying to be set on a copy of a slice from a DataFrame.\n",
      "Try using .loc[row_indexer,col_indexer] = value instead\n",
      "\n",
      "See the caveats in the documentation: https://pandas.pydata.org/pandas-docs/stable/user_guide/indexing.html#returning-a-view-versus-a-copy\n",
      "  df['countWords'] = df['clean_text'].apply(count_words)\n"
     ]
    }
   ],
   "source": [
    "#Add commonly seen words that are not info related.\n",
    "new_stopwords = [\"amp\", \"rt\", \"w\", \"wa\"]\n",
    "stpwrd = nltk.corpus.stopwords.words('english')\n",
    "stpwrd.extend(new_stopwords)\n",
    "\n",
    "df['clean_text'] = df['text'].apply(clean_text)\n",
    "df['countWords'] = df['clean_text'].apply(count_words)\n",
    "df = df[df['countWords']>5]\n",
    "print(df.shape)"
   ]
  },
  {
   "cell_type": "code",
   "execution_count": null,
   "id": "d8bc270f",
   "metadata": {},
   "outputs": [],
   "source": [
    "df.head(5)"
   ]
  },
  {
   "cell_type": "raw",
   "id": "56111774",
   "metadata": {},
   "source": [
    "from collections import Counter\n",
    "Counter(\" \".join(df['clean_text']).split()).most_common(100)"
   ]
  },
  {
   "cell_type": "markdown",
   "id": "1ba16773",
   "metadata": {},
   "source": [
    "# Perform Sentiment Analysis"
   ]
  },
  {
   "cell_type": "code",
   "execution_count": 11,
   "id": "bdff25b8",
   "metadata": {},
   "outputs": [],
   "source": [
    "from nltk.sentiment import SentimentIntensityAnalyzer\n",
    "analyzer = SentimentIntensityAnalyzer()\n",
    "\n",
    "df['polarity'] = df['clean_text'].apply(lambda x: analyzer.polarity_scores(x))\n",
    "df['emotion'] = df['clean_text'].apply(lambda x: te.get_emotion(x))\n"
   ]
  },
  {
   "cell_type": "markdown",
   "id": "85429a5c",
   "metadata": {},
   "source": [
    "# Save to MongoDB"
   ]
  },
  {
   "cell_type": "raw",
   "id": "f1a4df16",
   "metadata": {},
   "source": [
    "data = df.to_dict(orient='records') \n",
    "collectionSentiment.insert_many(data)"
   ]
  },
  {
   "cell_type": "code",
   "execution_count": null,
   "id": "12785263",
   "metadata": {},
   "outputs": [],
   "source": [
    "df = pd.DataFrame.from_records(list(collectionSentiment.find()))"
   ]
  },
  {
   "cell_type": "markdown",
   "id": "9ed4e37a",
   "metadata": {},
   "source": [
    "# Extract Sentiment and Emotive Values"
   ]
  },
  {
   "cell_type": "code",
   "execution_count": 13,
   "id": "8496c4b5",
   "metadata": {},
   "outputs": [],
   "source": [
    "#import ast\n",
    "#df['polarity']= df['polarity'].apply(ast.literal_eval)\n",
    "df['compound'] = df['polarity'].apply(lambda x: x['compound'])\n",
    "df['pos'] = df['polarity'].apply(lambda x: x['pos'])\n",
    "df['neu'] = df['polarity'].apply(lambda x: x['neu'])\n",
    "df['neg'] = df['polarity'].apply(lambda x: x['neg'])\n",
    "#df['emotion']= df['emotion'].apply(ast.literal_eval)\n",
    "df['happy'] = df['emotion'].apply(lambda x: x['Happy'])\n",
    "df['angry'] = df['emotion'].apply(lambda x: x['Angry'])\n",
    "df['surprise'] = df['emotion'].apply(lambda x: x['Surprise'])\n",
    "df['sad'] = df['emotion'].apply(lambda x: x['Sad'])\n",
    "df['fear'] = df['emotion'].apply(lambda x: x['Fear'])\n"
   ]
  },
  {
   "cell_type": "code",
   "execution_count": 14,
   "id": "ff499725",
   "metadata": {},
   "outputs": [],
   "source": [
    "bins=[-2, -0.5, 0.5, 1]\n",
    "labels=[1, 2, 3]\n",
    "df['sentiment'] = pd.cut(df['compound'], bins, labels=labels)"
   ]
  },
  {
   "cell_type": "code",
   "execution_count": 15,
   "id": "1c4b1731",
   "metadata": {},
   "outputs": [
    {
     "data": {
      "text/plain": [
       "_id            0\n",
       "created_at     0\n",
       "text           0\n",
       "url            0\n",
       "replies        0\n",
       "retweets       0\n",
       "favorites      0\n",
       "user           0\n",
       "bioguide_id    0\n",
       "party          0\n",
       "state          0\n",
       "date           0\n",
       "dayNum         0\n",
       "day            0\n",
       "hour           0\n",
       "clean_text     0\n",
       "countWords     0\n",
       "polarity       0\n",
       "emotion        0\n",
       "compound       0\n",
       "pos            0\n",
       "neu            0\n",
       "neg            0\n",
       "happy          0\n",
       "angry          0\n",
       "surprise       0\n",
       "sad            0\n",
       "fear           0\n",
       "sentiment      0\n",
       "dtype: int64"
      ]
     },
     "execution_count": 15,
     "metadata": {},
     "output_type": "execute_result"
    }
   ],
   "source": [
    "df.isna().sum()"
   ]
  },
  {
   "cell_type": "code",
   "execution_count": 16,
   "id": "c420c9ae",
   "metadata": {},
   "outputs": [],
   "source": [
    "df = df.sort_values(by='date', ascending=True)"
   ]
  },
  {
   "cell_type": "code",
   "execution_count": 17,
   "id": "cd196652",
   "metadata": {},
   "outputs": [
    {
     "data": {
      "image/png": "[encoded data removed]",
      "text/plain": [
       "<Figure size 432x288 with 1 Axes>"
      ]
     },
     "metadata": {
      "needs_background": "light"
     },
     "output_type": "display_data"
    }
   ],
   "source": [
    "counts = df['sentiment'].value_counts()\n",
    "plt.bar(counts.index, counts.values)\n",
    "plt.show()"
   ]
  },
  {
   "cell_type": "code",
   "execution_count": 18,
   "id": "a7d4364b",
   "metadata": {},
   "outputs": [
    {
     "data": {
      "text/plain": [
       "<AxesSubplot:xlabel='date', ylabel='count'>"
      ]
     },
     "execution_count": 18,
     "metadata": {},
     "output_type": "execute_result"
    },
    {
     "data": {
      "image/png": "[encoded data removed]",
      "text/plain": [
       "<Figure size 432x288 with 1 Axes>"
      ]
     },
     "metadata": {
      "needs_background": "light"
     },
     "output_type": "display_data"
    }
   ],
   "source": [
    "sns.countplot(x='date', data=df)"
   ]
  },
  {
   "cell_type": "markdown",
   "id": "b035e9b9",
   "metadata": {},
   "source": [
    "# Define Aggregation Fucnction and apply to collection of tweets"
   ]
  },
  {
   "cell_type": "code",
   "execution_count": 19,
   "id": "74094ce5",
   "metadata": {},
   "outputs": [],
   "source": [
    "def dailyAgg(dfAdj, columns_to_aggregate):    \n",
    "    # Resample the dataframe and calculate summary statistics\n",
    "    dfAdj.set_index('date', inplace=True)\n",
    "    aggregation_functions = {col: ['min', 'max', 'mean', 'std', 'count'] for col in columns_to_aggregate}\n",
    "    df_daily = dfAdj.resample('D').agg(aggregation_functions)\n",
    "    df_daily.columns = ['_'.join(col) for col in df_daily.columns]\n",
    "    #df_daily = df_daily.reset_index()\n",
    "    return df_daily"
   ]
  },
  {
   "cell_type": "code",
   "execution_count": 20,
   "id": "06608f81",
   "metadata": {},
   "outputs": [
    {
     "name": "stdout",
     "output_type": "stream",
     "text": [
      "<class 'pandas.core.frame.DataFrame'>\n",
      "Index: 132042 entries, 287297 to 179230\n",
      "Data columns (total 29 columns):\n",
      " #   Column       Non-Null Count   Dtype         \n",
      "---  ------       --------------   -----         \n",
      " 0   _id          132042 non-null  object        \n",
      " 1   created_at   132042 non-null  datetime64[ns]\n",
      " 2   text         132042 non-null  object        \n",
      " 3   url          132042 non-null  object        \n",
      " 4   replies      132042 non-null  int64         \n",
      " 5   retweets     132042 non-null  int64         \n",
      " 6   favorites    132042 non-null  int64         \n",
      " 7   user         132042 non-null  object        \n",
      " 8   bioguide_id  132042 non-null  object        \n",
      " 9   party        132042 non-null  object        \n",
      " 10  state        132042 non-null  object        \n",
      " 11  date         132042 non-null  datetime64[ns]\n",
      " 12  dayNum       132042 non-null  int32         \n",
      " 13  day          132042 non-null  int32         \n",
      " 14  hour         132042 non-null  int32         \n",
      " 15  clean_text   132042 non-null  object        \n",
      " 16  countWords   132042 non-null  int64         \n",
      " 17  polarity     132042 non-null  object        \n",
      " 18  emotion      132042 non-null  object        \n",
      " 19  compound     132042 non-null  float64       \n",
      " 20  pos          132042 non-null  float64       \n",
      " 21  neu          132042 non-null  float64       \n",
      " 22  neg          132042 non-null  float64       \n",
      " 23  happy        132042 non-null  float64       \n",
      " 24  angry        132042 non-null  float64       \n",
      " 25  surprise     132042 non-null  float64       \n",
      " 26  sad          132042 non-null  float64       \n",
      " 27  fear         132042 non-null  float64       \n",
      " 28  sentiment    132042 non-null  category      \n",
      "dtypes: category(1), datetime64[ns](2), float64(9), int32(3), int64(4), object(10)\n",
      "memory usage: 27.8+ MB\n"
     ]
    }
   ],
   "source": [
    "df.info()"
   ]
  },
  {
   "cell_type": "code",
   "execution_count": 21,
   "id": "b92b7fb6",
   "metadata": {},
   "outputs": [],
   "source": [
    "df['date']=pd.to_datetime(df['date']).dt.date.astype(\"datetime64[ns]\")\n",
    "aggCols = ['compound', 'pos', 'neu', 'neg', 'happy', 'sad', 'fear', 'surprise', 'day', 'hour']\n",
    "df_daily = dailyAgg(df, aggCols )"
   ]
  },
  {
   "cell_type": "markdown",
   "id": "ecbbba71",
   "metadata": {},
   "source": [
    "# Save Aggregated Tweets to MongoDB"
   ]
  },
  {
   "cell_type": "raw",
   "id": "8f2b4204",
   "metadata": {},
   "source": [
    "data_daily = df_daily.to_dict(orient='records') \n",
    "tweetDailyAggregate.insert_many(data_daily)"
   ]
  },
  {
   "cell_type": "code",
   "execution_count": null,
   "id": "64f4863e",
   "metadata": {},
   "outputs": [],
   "source": [
    "df_daily = pd.DataFrame.from_records(list(tweetDailyAggregate.find()))"
   ]
  },
  {
   "cell_type": "markdown",
   "id": "f98a5435",
   "metadata": {},
   "source": [
    "# Create Shifted Variables"
   ]
  },
  {
   "cell_type": "code",
   "execution_count": null,
   "id": "48587029",
   "metadata": {},
   "outputs": [],
   "source": [
    "df_daily['compound_n1d'] = df_daily['compound_mean'].shift(periods=1, freq=\"D\") \n",
    "df_daily['compound_n7d'] = df_daily['compound_mean'].shift(periods=7, freq=\"D\") \n",
    "df_daily['compound_n1m'] = df_daily['compound_mean'].shift(periods=1, freq=\"MS\") \n",
    "df_daily['compound_n3m'] = df_daily['compound_mean'].shift(periods=3, freq=\"MS\") "
   ]
  },
  {
   "cell_type": "code",
   "execution_count": null,
   "id": "f28c1109",
   "metadata": {},
   "outputs": [],
   "source": [
    "df_daily.index.duplicated()\n"
   ]
  },
  {
   "cell_type": "code",
   "execution_count": null,
   "id": "bca6df12",
   "metadata": {},
   "outputs": [],
   "source": [
    "df_daily.index.min()"
   ]
  },
  {
   "cell_type": "code",
   "execution_count": null,
   "id": "19e4dc27",
   "metadata": {},
   "outputs": [],
   "source": [
    "df_daily.index.max()"
   ]
  },
  {
   "cell_type": "code",
   "execution_count": null,
   "id": "49933d81",
   "metadata": {},
   "outputs": [],
   "source": []
  },
  {
   "cell_type": "code",
   "execution_count": null,
   "id": "8d029a32",
   "metadata": {},
   "outputs": [],
   "source": [
    "from keras.models import Sequential\n",
    "from keras.layers import Dense, LSTM\n",
    "from sklearn.preprocessing import MinMaxScaler\n",
    "from sklearn.model_selection import train_test_split"
   ]
  },
  {
   "cell_type": "code",
   "execution_count": null,
   "id": "7c8d165d",
   "metadata": {},
   "outputs": [],
   "source": [
    "# Scale the data\n",
    "scaler = MinMaxScaler()\n",
    "scaled_data = scaler.fit_transform(df['sentiment'].values.reshape(-1,1))\n",
    "\n",
    "# Create a sliding window of data\n",
    "n_steps = 30\n",
    "X = []\n",
    "y = []\n",
    "for i in range(n_steps, len(scaled_data)):\n",
    "    X.append(scaled_data[i-n_steps:i, 0])\n",
    "    y.append(scaled_data[i, 0])\n",
    "X = np.array(X)\n",
    "y = np.array(y)\n",
    "\n",
    "# Split the data into training and testing sets\n",
    "X_train, X_test, y_train, y_test = train_test_split(X, y, test_size=0.33, random_state=99)\n",
    "\n",
    "# Reshape the data for LSTM input\n",
    "X_train = X_train.reshape((X_train.shape[0], X_train.shape[1], 1))\n",
    "X_test = X_test.reshape((X_test.shape[0], X_test.shape[1], 1))\n",
    "\n",
    "# Define the LSTM network\n",
    "model = Sequential()\n",
    "model.add(LSTM(50, activation='relu', input_shape=(n_steps, 1)))\n",
    "model.add(Dense(1))\n",
    "model.compile(optimizer='adam', loss='mse')\n",
    "\n",
    "# Train the network\n",
    "model.fit(X_train, y_train, epochs=50, verbose=0)\n",
    "\n",
    "# Evaluate the network\n",
    "train_score = model.evaluate(X_train, y_train, verbose=0)\n",
    "test_score = model.evaluate(X_test, y_test, verbose=0)\n",
    "print('Train Score: {:.2f} MSE'.format(train_score))\n",
    "print('Test Score: {:.2f} MSE'.format(test_score))\n",
    "\n",
    "# Make predictions\n",
    "y_train_pred = model.predict(X_train)\n",
    "y_test_pred = model.predict(X_test)\n",
    "\n",
    "# Inverse scale the predictions\n",
    "y_train_pred = scaler.inverse_transform(y_train_pred)\n",
    "y_test_pred = scaler.inverse_transform(y_test_pred)\n",
    "\n"
   ]
  },
  {
   "cell_type": "code",
   "execution_count": null,
   "id": "eb1dcf78",
   "metadata": {},
   "outputs": [],
   "source": [
    "# Plot the predictions\n",
    "import matplotlib.pyplot as plt\n",
    "plt.plot(df['date'][n_steps:train_size], df['sentiment'][n_steps:train_size], label='Training Data')\n",
    "plt.plot(df['date'][train_size+n_steps:], df['sentiment'][train_size+n_steps:], label='Testing Data')\n",
    "plt.plot(df['date'][n_steps:train_size], y_train_pred, label='Training Predictions')\n",
    "plt.plot(df['date'][train_size+n_steps:], y_test_pred, label='Testing Predictions')\n",
    "plt.legend()\n",
    "plt.show()"
   ]
  },
  {
   "cell_type": "markdown",
   "id": "09534f4f",
   "metadata": {},
   "source": [
    "from pyspark.sql import SparkSession\n",
    "\n",
    "spark = SparkSession.builder \\\n",
    "    .appName(\"MongoDBInput\") \\\n",
    "    .config(\"spark.mongodb.input.uri\", \"mongodb://localhost:27017/college.news\") \\\n",
    "    .config(\"spark.mongodb.output.uri\", \"mongodb://localhost:27017/college.news\") \\\n",
    "    .config(\"spark.jars.packages\", \"org.mongodb.spark:mongo-spark-connector_2.13:10.1.1\") \\\n",
    "    .getOrCreate()\n",
    "\n",
    "df = spark.read.format(\"com.mongodb.spark.sql.DefaultSource\") \\\n",
    "    .option(\"uri\", \"mongodb://localhost:27017/college.news\") \\\n",
    "    .load()"
   ]
  }
 ],
 "metadata": {
  "kernelspec": {
   "display_name": "Python 3 (ipykernel)",
   "language": "python",
   "name": "python3"
  },
  "language_info": {
   "codemirror_mode": {
    "name": "ipython",
    "version": 3
   },
   "file_extension": ".py",
   "mimetype": "text/x-python",
   "name": "python",
   "nbconvert_exporter": "python",
   "pygments_lexer": "ipython3",
   "version": "3.10.6"
  }
 },
 "nbformat": 4,
 "nbformat_minor": 5
}
