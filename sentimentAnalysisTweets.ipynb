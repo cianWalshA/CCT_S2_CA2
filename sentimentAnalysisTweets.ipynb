{
 "cells": [
  {
   "cell_type": "code",
   "execution_count": 1,
   "id": "369379cc",
   "metadata": {},
   "outputs": [],
   "source": [
    "#Import Libraries\n",
    "import pandas as pd\n",
    "import numpy as np\n",
    "pd.set_option('display.max_rows', 500)\n",
    "pd.set_option('display.max_columns', 500)\n",
    "pd.set_option('display.width', 1000)\n",
    "pd.set_option('display.max_colwidth', None)\n",
    "import pymongo\n",
    "import json\n",
    "import re\n",
    "import string\n",
    "import nltk\n",
    "import emoji\n",
    "import matplotlib.pyplot as plt\n",
    "\n",
    "from nltk.corpus import stopwords\n",
    "from nltk.stem import WordNetLemmatizer\n",
    "from textblob import TextBlob"
   ]
  },
  {
   "cell_type": "code",
   "execution_count": 2,
   "id": "5d588fb9",
   "metadata": {},
   "outputs": [],
   "source": [
    "#Set up variables to access MongoDB\n",
    "client = pymongo.MongoClient(\"mongodb://localhost:27017/\")\n",
    "# Database Name\n",
    "database = client[\"collegedb\"]\n",
    "# Collection Name\n",
    "collection = database[\"breakingNews\"]"
   ]
  },
  {
   "cell_type": "code",
   "execution_count": 3,
   "id": "46fe0929",
   "metadata": {
    "scrolled": true
   },
   "outputs": [
    {
     "data": {
      "text/plain": [
       "Collection(Database(MongoClient(host=['localhost:27017'], document_class=dict, tz_aware=False, connect=True), 'collegedb'), 'breakingNews')"
      ]
     },
     "execution_count": 3,
     "metadata": {},
     "output_type": "execute_result"
    }
   ],
   "source": [
    "#Show connection\n",
    "collection"
   ]
  },
  {
   "cell_type": "code",
   "execution_count": 4,
   "id": "c31a41a6",
   "metadata": {},
   "outputs": [],
   "source": [
    "breakingNews = pd.DataFrame.from_records(list(collection.find()))"
   ]
  },
  {
   "cell_type": "code",
   "execution_count": 5,
   "id": "1d28c9eb",
   "metadata": {},
   "outputs": [
    {
     "name": "stdout",
     "output_type": "stream",
     "text": [
      "_id               0\n",
      "text              0\n",
      "tweetcreatedts    0\n",
      "tweetDate         0\n",
      "dtype: int64\n",
      "<class 'pandas.core.frame.DataFrame'>\n",
      "RangeIndex: 4946365 entries, 0 to 4946364\n",
      "Data columns (total 4 columns):\n",
      " #   Column          Dtype         \n",
      "---  ------          -----         \n",
      " 0   _id             object        \n",
      " 1   text            object        \n",
      " 2   tweetcreatedts  object        \n",
      " 3   tweetDate       datetime64[ns]\n",
      "dtypes: datetime64[ns](1), object(3)\n",
      "memory usage: 151.0+ MB\n",
      "None\n",
      "(4946365, 4)\n"
     ]
    }
   ],
   "source": [
    "breakingNews['tweetDate']=pd.to_datetime(breakingNews['tweetcreatedts']).dt.date\n",
    "breakingNews['tweetDate'] = breakingNews['tweetDate'].astype(\"datetime64[ns]\")\n",
    "print(breakingNews.isnull().sum())\n",
    "print(breakingNews.info())\n",
    "print(breakingNews.shape)\n",
    "#breakingNews['tweetDate'].groupby(breakingNews[\"tweetDate\"].dt.date).count().plot(kind=\"bar\")"
   ]
  },
  {
   "cell_type": "code",
   "execution_count": 6,
   "id": "453fbeec",
   "metadata": {},
   "outputs": [],
   "source": [
    "def remove_duplicates(sentence):\n",
    "    words = sentence.split(\" \")\n",
    "    result = []\n",
    "    for word in words:\n",
    "        if word not in result:\n",
    "            result.append(word)\n",
    "    return \" \".join(result)\n",
    "\n",
    "def clean_text(text):\n",
    "    # Convert text to lowercase\n",
    "    text = text.lower()\n",
    "    # Remove urls\n",
    "    text = re.sub(r'http\\S+', '', text)\n",
    "    # Remove mentions and hashtags\n",
    "    text = re.sub(r'@\\w+|\\#\\w+', '', text)\n",
    "    # Remove emojis\n",
    "    text = (emoji.replace_emoji(text, ''))\n",
    "    # Remove punctuation\n",
    "    text = text.translate(str.maketrans('', '', string.punctuation))\n",
    "    # Remove extra chars\n",
    "    text = re.sub(r\"[^\\w\\s]+\", \"\", text)\n",
    "    # Remove Duplicates\n",
    "    text = remove_duplicates(text)\n",
    "    # Tokenize text into words\n",
    "    words = nltk.word_tokenize(text)\n",
    "    # Lemmatize words\n",
    "    lem = WordNetLemmatizer()\n",
    "    words = [lem.lemmatize(word) for word in words]\n",
    "    # Remove stop words\n",
    "    words = [word for word in words if word not in stpwrd]\n",
    "    # Join words back into text\n",
    "    text = ' '.join(words)\n",
    "    return text\n",
    "\n",
    "def count_words(s):\n",
    "    return len(s.split())"
   ]
  },
  {
   "cell_type": "code",
   "execution_count": 7,
   "id": "30a794a2",
   "metadata": {},
   "outputs": [
    {
     "data": {
      "text/plain": [
       "(4946365, 4)"
      ]
     },
     "execution_count": 7,
     "metadata": {},
     "output_type": "execute_result"
    }
   ],
   "source": [
    "breakingNews.shape"
   ]
  },
  {
   "cell_type": "code",
   "execution_count": 8,
   "id": "0d7c56c4",
   "metadata": {},
   "outputs": [],
   "source": [
    "sampleAmount = 0.01\n",
    "breakingNewsSamp = breakingNews.groupby('tweetDate').apply(lambda x: x.sample(frac= sampleAmount ))"
   ]
  },
  {
   "cell_type": "code",
   "execution_count": 9,
   "id": "97acff55",
   "metadata": {},
   "outputs": [
    {
     "data": {
      "text/plain": [
       "(49471, 4)"
      ]
     },
     "execution_count": 9,
     "metadata": {},
     "output_type": "execute_result"
    }
   ],
   "source": [
    "breakingNewsSamp.shape"
   ]
  },
  {
   "cell_type": "code",
   "execution_count": 10,
   "id": "6d7f5370",
   "metadata": {},
   "outputs": [
    {
     "name": "stdout",
     "output_type": "stream",
     "text": [
      "(41369, 6)\n"
     ]
    }
   ],
   "source": [
    "#Add commonly seen words that are not info related.\n",
    "new_stopwords = [\"news\", \"ha\", \"u\", \"via\", \"amp\", \"link\", \"wa\"]\n",
    "stpwrd = nltk.corpus.stopwords.words('english')\n",
    "stpwrd.extend(new_stopwords)\n",
    "\n",
    "breakingNewsSamp['clean_text'] = breakingNewsSamp['text'].apply(clean_text)\n",
    "breakingNewsSamp['countWords'] = breakingNewsSamp['clean_text'].apply(count_words)\n",
    "breakingNewsSamp = breakingNewsSamp[breakingNewsSamp['countWords']>5]\n",
    "print(breakingNewsSamp.shape)"
   ]
  },
  {
   "cell_type": "code",
   "execution_count": 11,
   "id": "6121d58c",
   "metadata": {},
   "outputs": [
    {
     "data": {
      "text/html": [
       "<div>\n",
       "<style scoped>\n",
       "    .dataframe tbody tr th:only-of-type {\n",
       "        vertical-align: middle;\n",
       "    }\n",
       "\n",
       "    .dataframe tbody tr th {\n",
       "        vertical-align: top;\n",
       "    }\n",
       "\n",
       "    .dataframe thead th {\n",
       "        text-align: right;\n",
       "    }\n",
       "</style>\n",
       "<table border=\"1\" class=\"dataframe\">\n",
       "  <thead>\n",
       "    <tr style=\"text-align: right;\">\n",
       "      <th></th>\n",
       "      <th></th>\n",
       "      <th>_id</th>\n",
       "      <th>text</th>\n",
       "      <th>tweetcreatedts</th>\n",
       "      <th>tweetDate</th>\n",
       "      <th>clean_text</th>\n",
       "      <th>countWords</th>\n",
       "    </tr>\n",
       "    <tr>\n",
       "      <th>tweetDate</th>\n",
       "      <th></th>\n",
       "      <th></th>\n",
       "      <th></th>\n",
       "      <th></th>\n",
       "      <th></th>\n",
       "      <th></th>\n",
       "      <th></th>\n",
       "    </tr>\n",
       "  </thead>\n",
       "  <tbody>\n",
       "    <tr>\n",
       "      <th rowspan=\"3\" valign=\"top\">2022-08-02</th>\n",
       "      <th>2251681</th>\n",
       "      <td>644d2cfd1fed118138fca750</td>\n",
       "      <td>Crowds Flock to Steal Hash After Boat Carrying Contraband Crashes on Spanish Beach The unprecedented hash loot occurred during a drug bust that was led by the custom department of Spain. #LatestNews by #News18 https://t.co/EIySGDLIwt</td>\n",
       "      <td>2022-08-02 12:08:03</td>\n",
       "      <td>2022-08-02</td>\n",
       "      <td>crowd flock steal hash boat carrying contraband crash spanish beach unprecedented loot occurred drug bust led custom department spain</td>\n",
       "      <td>19</td>\n",
       "    </tr>\n",
       "    <tr>\n",
       "      <th>2251723</th>\n",
       "      <td>644d2cfd1fed118138fca77a</td>\n",
       "      <td>Dominica Budget 2022/23 features plans for enhancement of Primary Health Care System\\n\\n#Dominica #PMSkerrit #BreakingNews #News #Caribbean #CaribbeanNews #LatestNews #BUdget #Heath #rooseveltskerrit \\n\\nhttps://t.co/MDCaU77OXj</td>\n",
       "      <td>2022-08-02 13:30:00</td>\n",
       "      <td>2022-08-02</td>\n",
       "      <td>dominica budget 202223 feature plan enhancement primary health care system</td>\n",
       "      <td>10</td>\n",
       "    </tr>\n",
       "    <tr>\n",
       "      <th>2251784</th>\n",
       "      <td>644d2cfd1fed118138fca7b7</td>\n",
       "      <td>Latest: XEM Price Analysis August 2022 \\nhttps://t.co/rCB0NCfGQm\\nby @coincodecap\\n#bitcoin #ethereum #crypto #cryptocurrency #cryptonews #latestnews #breaking #breakingnews</td>\n",
       "      <td>2022-08-02 15:36:24</td>\n",
       "      <td>2022-08-02</td>\n",
       "      <td>latest xem price analysis august 2022</td>\n",
       "      <td>6</td>\n",
       "    </tr>\n",
       "    <tr>\n",
       "      <th rowspan=\"2\" valign=\"top\">2022-08-03</th>\n",
       "      <th>49621</th>\n",
       "      <td>644d2cc21fed118138db0d84</td>\n",
       "      <td>Beyoncé edits two songs on Renaissance after social backlash #breaking #breakingnews #politics #usa #news #newsbreak #trending #entertainment #sports #hockey #baseball #tennis #football #markets #stock #sp500 https://t.co/DeEvv3LRCX</td>\n",
       "      <td>2022-08-03 18:03:54</td>\n",
       "      <td>2022-08-03</td>\n",
       "      <td>beyoncé edits two song renaissance social backlash</td>\n",
       "      <td>7</td>\n",
       "    </tr>\n",
       "    <tr>\n",
       "      <th>50875</th>\n",
       "      <td>644d2cc21fed118138db126a</td>\n",
       "      <td>Coalition Blasts Groups Calling For Emefieles Sack Over Nations Economic Challenges https://t.co/hE2GTmNWQh #news #riskmap https://t.co/UOCWNfiGzq</td>\n",
       "      <td>2022-08-03 23:53:32</td>\n",
       "      <td>2022-08-03</td>\n",
       "      <td>coalition blast group calling emefieles sack nation economic challenge</td>\n",
       "      <td>9</td>\n",
       "    </tr>\n",
       "  </tbody>\n",
       "</table>\n",
       "</div>"
      ],
      "text/plain": [
       "                                         _id                                                                                                                                                                                                                                       text       tweetcreatedts  tweetDate                                                                                                                             clean_text  countWords\n",
       "tweetDate                                                                                                                                                                                                                                                                                                                                                                                                                                                                 \n",
       "2022-08-02 2251681  644d2cfd1fed118138fca750  Crowds Flock to Steal Hash After Boat Carrying Contraband Crashes on Spanish Beach The unprecedented hash loot occurred during a drug bust that was led by the custom department of Spain. #LatestNews by #News18 https://t.co/EIySGDLIwt  2022-08-02 12:08:03 2022-08-02  crowd flock steal hash boat carrying contraband crash spanish beach unprecedented loot occurred drug bust led custom department spain          19\n",
       "           2251723  644d2cfd1fed118138fca77a        Dominica Budget 2022/23 features plans for enhancement of Primary Health Care System\\n\\n#Dominica #PMSkerrit #BreakingNews #News #Caribbean #CaribbeanNews #LatestNews #BUdget #Heath #rooseveltskerrit \\n\\nhttps://t.co/MDCaU77OXj  2022-08-02 13:30:00 2022-08-02                                                             dominica budget 202223 feature plan enhancement primary health care system          10\n",
       "           2251784  644d2cfd1fed118138fca7b7                                                              Latest: XEM Price Analysis August 2022 \\nhttps://t.co/rCB0NCfGQm\\nby @coincodecap\\n#bitcoin #ethereum #crypto #cryptocurrency #cryptonews #latestnews #breaking #breakingnews  2022-08-02 15:36:24 2022-08-02                                                                                                  latest xem price analysis august 2022           6\n",
       "2022-08-03 49621    644d2cc21fed118138db0d84   Beyoncé edits two songs on Renaissance after social backlash #breaking #breakingnews #politics #usa #news #newsbreak #trending #entertainment #sports #hockey #baseball #tennis #football #markets #stock #sp500 https://t.co/DeEvv3LRCX  2022-08-03 18:03:54 2022-08-03                                                                                     beyoncé edits two song renaissance social backlash           7\n",
       "           50875    644d2cc21fed118138db126a                                                                                         Coalition Blasts Groups Calling For Emefieles Sack Over Nations Economic Challenges https://t.co/hE2GTmNWQh #news #riskmap https://t.co/UOCWNfiGzq  2022-08-03 23:53:32 2022-08-03                                                                 coalition blast group calling emefieles sack nation economic challenge           9"
      ]
     },
     "execution_count": 11,
     "metadata": {},
     "output_type": "execute_result"
    }
   ],
   "source": [
    "breakingNewsSamp.head(5)"
   ]
  },
  {
   "cell_type": "markdown",
   "id": "f6b8bbf0",
   "metadata": {},
   "source": [
    "from collections import Counter\n",
    "Counter(\" \".join(breakingNewsSamp['clean_text']).split()).most_common(100)"
   ]
  },
  {
   "cell_type": "code",
   "execution_count": 12,
   "id": "fc0e9e61",
   "metadata": {},
   "outputs": [],
   "source": [
    "from nltk.sentiment import SentimentIntensityAnalyzer\n",
    "analyzer = SentimentIntensityAnalyzer()\n",
    "\n",
    "breakingNewsSamp['polarity'] = breakingNewsSamp['clean_text'].apply(lambda x: analyzer.polarity_scores(x))\n",
    "breakingNewsSamp['compound'] = [analyzer.polarity_scores(x)['compound'] for x in breakingNewsSamp['clean_text']]\n",
    "breakingNewsSamp['neg'] = [analyzer.polarity_scores(x)['neg'] for x in breakingNewsSamp['clean_text']]\n",
    "breakingNewsSamp['neu'] = [analyzer.polarity_scores(x)['neu'] for x in breakingNewsSamp['clean_text']]\n",
    "breakingNewsSamp['pos'] = [analyzer.polarity_scores(x)['pos'] for x in breakingNewsSamp['clean_text']]\n"
   ]
  },
  {
   "cell_type": "code",
   "execution_count": 13,
   "id": "f501d89a",
   "metadata": {},
   "outputs": [],
   "source": [
    "bins=[-2, -0.5, 0.5, 1]\n",
    "labels=['Negative', 'Neutral', 'Positive']\n",
    "breakingNewsSamp['sentiment'] = pd.cut(breakingNewsSamp['compound'], bins, labels=labels)"
   ]
  },
  {
   "cell_type": "code",
   "execution_count": null,
   "id": "3a7fe862",
   "metadata": {},
   "outputs": [],
   "source": []
  },
  {
   "cell_type": "code",
   "execution_count": 14,
   "id": "11cf7f72",
   "metadata": {},
   "outputs": [
    {
     "data": {
      "text/html": [
       "<div>\n",
       "<style scoped>\n",
       "    .dataframe tbody tr th:only-of-type {\n",
       "        vertical-align: middle;\n",
       "    }\n",
       "\n",
       "    .dataframe tbody tr th {\n",
       "        vertical-align: top;\n",
       "    }\n",
       "\n",
       "    .dataframe thead th {\n",
       "        text-align: right;\n",
       "    }\n",
       "</style>\n",
       "<table border=\"1\" class=\"dataframe\">\n",
       "  <thead>\n",
       "    <tr style=\"text-align: right;\">\n",
       "      <th></th>\n",
       "      <th></th>\n",
       "      <th>_id</th>\n",
       "      <th>text</th>\n",
       "      <th>tweetcreatedts</th>\n",
       "      <th>tweetDate</th>\n",
       "      <th>clean_text</th>\n",
       "      <th>countWords</th>\n",
       "      <th>polarity</th>\n",
       "      <th>compound</th>\n",
       "      <th>neg</th>\n",
       "      <th>neu</th>\n",
       "      <th>pos</th>\n",
       "      <th>sentiment</th>\n",
       "    </tr>\n",
       "    <tr>\n",
       "      <th>tweetDate</th>\n",
       "      <th></th>\n",
       "      <th></th>\n",
       "      <th></th>\n",
       "      <th></th>\n",
       "      <th></th>\n",
       "      <th></th>\n",
       "      <th></th>\n",
       "      <th></th>\n",
       "      <th></th>\n",
       "      <th></th>\n",
       "      <th></th>\n",
       "      <th></th>\n",
       "      <th></th>\n",
       "    </tr>\n",
       "  </thead>\n",
       "  <tbody>\n",
       "    <tr>\n",
       "      <th rowspan=\"3\" valign=\"top\">2022-08-02</th>\n",
       "      <th>2251681</th>\n",
       "      <td>644d2cfd1fed118138fca750</td>\n",
       "      <td>Crowds Flock to Steal Hash After Boat Carrying Contraband Crashes on Spanish Beach The unprecedented hash loot occurred during a drug bust that was led by the custom department of Spain. #LatestNews by #News18 https://t.co/EIySGDLIwt</td>\n",
       "      <td>2022-08-02 12:08:03</td>\n",
       "      <td>2022-08-02</td>\n",
       "      <td>crowd flock steal hash boat carrying contraband crash spanish beach unprecedented loot occurred drug bust led custom department spain</td>\n",
       "      <td>19</td>\n",
       "      <td>{'neg': 0.258, 'neu': 0.742, 'pos': 0.0, 'compound': -0.7096}</td>\n",
       "      <td>-0.7096</td>\n",
       "      <td>0.258</td>\n",
       "      <td>0.742</td>\n",
       "      <td>0.000</td>\n",
       "      <td>Negative</td>\n",
       "    </tr>\n",
       "    <tr>\n",
       "      <th>2251723</th>\n",
       "      <td>644d2cfd1fed118138fca77a</td>\n",
       "      <td>Dominica Budget 2022/23 features plans for enhancement of Primary Health Care System\\n\\n#Dominica #PMSkerrit #BreakingNews #News #Caribbean #CaribbeanNews #LatestNews #BUdget #Heath #rooseveltskerrit \\n\\nhttps://t.co/MDCaU77OXj</td>\n",
       "      <td>2022-08-02 13:30:00</td>\n",
       "      <td>2022-08-02</td>\n",
       "      <td>dominica budget 202223 feature plan enhancement primary health care system</td>\n",
       "      <td>10</td>\n",
       "      <td>{'neg': 0.0, 'neu': 0.738, 'pos': 0.262, 'compound': 0.4939}</td>\n",
       "      <td>0.4939</td>\n",
       "      <td>0.000</td>\n",
       "      <td>0.738</td>\n",
       "      <td>0.262</td>\n",
       "      <td>Neutral</td>\n",
       "    </tr>\n",
       "    <tr>\n",
       "      <th>2251784</th>\n",
       "      <td>644d2cfd1fed118138fca7b7</td>\n",
       "      <td>Latest: XEM Price Analysis August 2022 \\nhttps://t.co/rCB0NCfGQm\\nby @coincodecap\\n#bitcoin #ethereum #crypto #cryptocurrency #cryptonews #latestnews #breaking #breakingnews</td>\n",
       "      <td>2022-08-02 15:36:24</td>\n",
       "      <td>2022-08-02</td>\n",
       "      <td>latest xem price analysis august 2022</td>\n",
       "      <td>6</td>\n",
       "      <td>{'neg': 0.0, 'neu': 1.0, 'pos': 0.0, 'compound': 0.0}</td>\n",
       "      <td>0.0000</td>\n",
       "      <td>0.000</td>\n",
       "      <td>1.000</td>\n",
       "      <td>0.000</td>\n",
       "      <td>Neutral</td>\n",
       "    </tr>\n",
       "    <tr>\n",
       "      <th rowspan=\"2\" valign=\"top\">2022-08-03</th>\n",
       "      <th>49621</th>\n",
       "      <td>644d2cc21fed118138db0d84</td>\n",
       "      <td>Beyoncé edits two songs on Renaissance after social backlash #breaking #breakingnews #politics #usa #news #newsbreak #trending #entertainment #sports #hockey #baseball #tennis #football #markets #stock #sp500 https://t.co/DeEvv3LRCX</td>\n",
       "      <td>2022-08-03 18:03:54</td>\n",
       "      <td>2022-08-03</td>\n",
       "      <td>beyoncé edits two song renaissance social backlash</td>\n",
       "      <td>7</td>\n",
       "      <td>{'neg': 0.0, 'neu': 1.0, 'pos': 0.0, 'compound': 0.0}</td>\n",
       "      <td>0.0000</td>\n",
       "      <td>0.000</td>\n",
       "      <td>1.000</td>\n",
       "      <td>0.000</td>\n",
       "      <td>Neutral</td>\n",
       "    </tr>\n",
       "    <tr>\n",
       "      <th>50875</th>\n",
       "      <td>644d2cc21fed118138db126a</td>\n",
       "      <td>Coalition Blasts Groups Calling For Emefieles Sack Over Nations Economic Challenges https://t.co/hE2GTmNWQh #news #riskmap https://t.co/UOCWNfiGzq</td>\n",
       "      <td>2022-08-03 23:53:32</td>\n",
       "      <td>2022-08-03</td>\n",
       "      <td>coalition blast group calling emefieles sack nation economic challenge</td>\n",
       "      <td>9</td>\n",
       "      <td>{'neg': 0.0, 'neu': 0.86, 'pos': 0.14, 'compound': 0.0772}</td>\n",
       "      <td>0.0772</td>\n",
       "      <td>0.000</td>\n",
       "      <td>0.860</td>\n",
       "      <td>0.140</td>\n",
       "      <td>Neutral</td>\n",
       "    </tr>\n",
       "  </tbody>\n",
       "</table>\n",
       "</div>"
      ],
      "text/plain": [
       "                                         _id                                                                                                                                                                                                                                       text       tweetcreatedts  tweetDate                                                                                                                             clean_text  countWords                                                       polarity  compound    neg    neu    pos sentiment\n",
       "tweetDate                                                                                                                                                                                                                                                                                                                                                                                                                                                                                                                                                                         \n",
       "2022-08-02 2251681  644d2cfd1fed118138fca750  Crowds Flock to Steal Hash After Boat Carrying Contraband Crashes on Spanish Beach The unprecedented hash loot occurred during a drug bust that was led by the custom department of Spain. #LatestNews by #News18 https://t.co/EIySGDLIwt  2022-08-02 12:08:03 2022-08-02  crowd flock steal hash boat carrying contraband crash spanish beach unprecedented loot occurred drug bust led custom department spain          19  {'neg': 0.258, 'neu': 0.742, 'pos': 0.0, 'compound': -0.7096}   -0.7096  0.258  0.742  0.000  Negative\n",
       "           2251723  644d2cfd1fed118138fca77a        Dominica Budget 2022/23 features plans for enhancement of Primary Health Care System\\n\\n#Dominica #PMSkerrit #BreakingNews #News #Caribbean #CaribbeanNews #LatestNews #BUdget #Heath #rooseveltskerrit \\n\\nhttps://t.co/MDCaU77OXj  2022-08-02 13:30:00 2022-08-02                                                             dominica budget 202223 feature plan enhancement primary health care system          10   {'neg': 0.0, 'neu': 0.738, 'pos': 0.262, 'compound': 0.4939}    0.4939  0.000  0.738  0.262   Neutral\n",
       "           2251784  644d2cfd1fed118138fca7b7                                                              Latest: XEM Price Analysis August 2022 \\nhttps://t.co/rCB0NCfGQm\\nby @coincodecap\\n#bitcoin #ethereum #crypto #cryptocurrency #cryptonews #latestnews #breaking #breakingnews  2022-08-02 15:36:24 2022-08-02                                                                                                  latest xem price analysis august 2022           6          {'neg': 0.0, 'neu': 1.0, 'pos': 0.0, 'compound': 0.0}    0.0000  0.000  1.000  0.000   Neutral\n",
       "2022-08-03 49621    644d2cc21fed118138db0d84   Beyoncé edits two songs on Renaissance after social backlash #breaking #breakingnews #politics #usa #news #newsbreak #trending #entertainment #sports #hockey #baseball #tennis #football #markets #stock #sp500 https://t.co/DeEvv3LRCX  2022-08-03 18:03:54 2022-08-03                                                                                     beyoncé edits two song renaissance social backlash           7          {'neg': 0.0, 'neu': 1.0, 'pos': 0.0, 'compound': 0.0}    0.0000  0.000  1.000  0.000   Neutral\n",
       "           50875    644d2cc21fed118138db126a                                                                                         Coalition Blasts Groups Calling For Emefieles Sack Over Nations Economic Challenges https://t.co/hE2GTmNWQh #news #riskmap https://t.co/UOCWNfiGzq  2022-08-03 23:53:32 2022-08-03                                                                 coalition blast group calling emefieles sack nation economic challenge           9     {'neg': 0.0, 'neu': 0.86, 'pos': 0.14, 'compound': 0.0772}    0.0772  0.000  0.860  0.140   Neutral"
      ]
     },
     "execution_count": 14,
     "metadata": {},
     "output_type": "execute_result"
    }
   ],
   "source": [
    "breakingNewsSamp.head(5)"
   ]
  },
  {
   "cell_type": "code",
   "execution_count": 15,
   "id": "ac271035",
   "metadata": {},
   "outputs": [
    {
     "data": {
      "image/png": "[encoded data removed]",
      "text/plain": [
       "<Figure size 432x288 with 1 Axes>"
      ]
     },
     "metadata": {
      "needs_background": "light"
     },
     "output_type": "display_data"
    }
   ],
   "source": [
    "counts = breakingNewsSamp['sentiment'].value_counts()\n",
    "plt.bar(counts.index, counts.values)\n",
    "plt.show()"
   ]
  },
  {
   "cell_type": "code",
   "execution_count": 17,
   "id": "a88cb4c9",
   "metadata": {},
   "outputs": [
    {
     "name": "stdout",
     "output_type": "stream",
     "text": [
      "Defaulting to user installation because normal site-packages is not writeable\n",
      "Collecting sklearn\n",
      "  Downloading sklearn-0.0.post4.tar.gz (3.6 kB)\n",
      "  Preparing metadata (setup.py) ... \u001b[?25ldone\n",
      "\u001b[?25hBuilding wheels for collected packages: sklearn\n",
      "  Building wheel for sklearn (setup.py) ... \u001b[?25ldone\n",
      "\u001b[?25h  Created wheel for sklearn: filename=sklearn-0.0.post4-py3-none-any.whl size=2360 sha256=26e5956a2a0fc2e6b35f39815de2e4c7de875ca35f594dd2a7896b4a5a260277\n",
      "  Stored in directory: /home/hduser/.cache/pip/wheels/46/b8/69/4f7789b7d2fc0718a44cbc4ae5d40970a40c22c472ae50f0a1\n",
      "Successfully built sklearn\n",
      "Installing collected packages: sklearn\n",
      "Successfully installed sklearn-0.0.post4\n",
      "Note: you may need to restart the kernel to use updated packages.\n"
     ]
    }
   ],
   "source": [
    "pip install sklearn"
   ]
  },
  {
   "cell_type": "code",
   "execution_count": 18,
   "id": "8d029a32",
   "metadata": {},
   "outputs": [
    {
     "ename": "ModuleNotFoundError",
     "evalue": "No module named 'sklearn'",
     "output_type": "error",
     "traceback": [
      "\u001b[0;31m---------------------------------------------------------------------------\u001b[0m",
      "\u001b[0;31mModuleNotFoundError\u001b[0m                       Traceback (most recent call last)",
      "\u001b[0;32m/tmp/ipykernel_3212/2856827830.py\u001b[0m in \u001b[0;36m<module>\u001b[0;34m\u001b[0m\n\u001b[1;32m      1\u001b[0m \u001b[0;32mfrom\u001b[0m \u001b[0mkeras\u001b[0m\u001b[0;34m.\u001b[0m\u001b[0mmodels\u001b[0m \u001b[0;32mimport\u001b[0m \u001b[0mSequential\u001b[0m\u001b[0;34m\u001b[0m\u001b[0;34m\u001b[0m\u001b[0m\n\u001b[1;32m      2\u001b[0m \u001b[0;32mfrom\u001b[0m \u001b[0mkeras\u001b[0m\u001b[0;34m.\u001b[0m\u001b[0mlayers\u001b[0m \u001b[0;32mimport\u001b[0m \u001b[0mDense\u001b[0m\u001b[0;34m,\u001b[0m \u001b[0mLSTM\u001b[0m\u001b[0;34m\u001b[0m\u001b[0;34m\u001b[0m\u001b[0m\n\u001b[0;32m----> 3\u001b[0;31m \u001b[0;32mfrom\u001b[0m \u001b[0msklearn\u001b[0m\u001b[0;34m.\u001b[0m\u001b[0mpreprocessing\u001b[0m \u001b[0;32mimport\u001b[0m \u001b[0mMinMaxScaler\u001b[0m\u001b[0;34m\u001b[0m\u001b[0;34m\u001b[0m\u001b[0m\n\u001b[0m",
      "\u001b[0;31mModuleNotFoundError\u001b[0m: No module named 'sklearn'"
     ]
    }
   ],
   "source": [
    "from keras.models import Sequential\n",
    "from keras.layers import Dense, LSTM\n",
    "from sklearn.preprocessing import MinMaxScaler"
   ]
  },
  {
   "cell_type": "code",
   "execution_count": null,
   "id": "7c8d165d",
   "metadata": {},
   "outputs": [],
   "source": [
    "\n",
    "# Load the data\n",
    "df = pd.read_csv('sentiment_data.csv')\n",
    "\n",
    "# Scale the data\n",
    "scaler = MinMaxScaler()\n",
    "scaled_data = scaler.fit_transform(df['sentiment'].values.reshape(-1,1))\n",
    "\n",
    "# Create a sliding window of data\n",
    "n_steps = 30\n",
    "X = []\n",
    "y = []\n",
    "for i in range(n_steps, len(scaled_data)):\n",
    "    X.append(scaled_data[i-n_steps:i, 0])\n",
    "    y.append(scaled_data[i, 0])\n",
    "X = np.array(X)\n",
    "y = np.array(y)\n",
    "\n",
    "# Split the data into training and testing sets\n",
    "train_size = int(len(X) * 0.8)\n",
    "X_train, y_train = X[:train_size], y[:train_size]\n",
    "X_test, y_test = X[train_size:], y[train_size:]\n",
    "\n",
    "# Reshape the data for LSTM input\n",
    "X_train = X_train.reshape((X_train.shape[0], X_train.shape[1], 1))\n",
    "X_test = X_test.reshape((X_test.shape[0], X_test.shape[1], 1))\n",
    "\n",
    "# Define the LSTM network\n",
    "model = Sequential()\n",
    "model.add(LSTM(50, activation='relu', input_shape=(n_steps, 1)))\n",
    "model.add(Dense(1))\n",
    "model.compile(optimizer='adam', loss='mse')\n",
    "\n",
    "# Train the network\n",
    "model.fit(X_train, y_train, epochs=50, verbose=0)\n",
    "\n",
    "# Evaluate the network\n",
    "train_score = model.evaluate(X_train, y_train, verbose=0)\n",
    "test_score = model.evaluate(X_test, y_test, verbose=0)\n",
    "print('Train Score: {:.2f} MSE'.format(train_score))\n",
    "print('Test Score: {:.2f} MSE'.format(test_score))\n",
    "\n",
    "# Make predictions\n",
    "y_train_pred = model.predict(X_train)\n",
    "y_test_pred = model.predict(X_test)\n",
    "\n",
    "# Inverse scale the predictions\n",
    "y_train_pred = scaler.inverse_transform(y_train_pred)\n",
    "y_test_pred = scaler.inverse_transform(y_test_pred)\n",
    "\n",
    "# Plot the predictions\n",
    "import matplotlib.pyplot as plt\n",
    "plt.plot(df['date'][n_steps:train_size], df['sentiment'][n_steps:train_size], label='Training Data')\n",
    "plt.plot(df['date'][train_size+n_steps:], df['sentiment'][train_size+n_steps:], label='Testing Data')\n",
    "plt.plot(df['date'][n_steps:train_size], y_train_pred, label='Training Predictions')\n",
    "plt.plot(df['date'][train_size+n_steps:], y_test_pred, label='Testing Predictions')\n",
    "plt.legend()\n",
    "plt.show()"
   ]
  },
  {
   "cell_type": "markdown",
   "id": "09534f4f",
   "metadata": {},
   "source": [
    "from pyspark.sql import SparkSession\n",
    "\n",
    "spark = SparkSession.builder \\\n",
    "    .appName(\"MongoDBInput\") \\\n",
    "    .config(\"spark.mongodb.input.uri\", \"mongodb://localhost:27017/college.breakingNews\") \\\n",
    "    .config(\"spark.mongodb.output.uri\", \"mongodb://localhost:27017/college.breakingNews\") \\\n",
    "    .config(\"spark.jars.packages\", \"org.mongodb.spark:mongo-spark-connector_2.13:10.1.1\") \\\n",
    "    .getOrCreate()\n",
    "\n",
    "df = spark.read.format(\"com.mongodb.spark.sql.DefaultSource\") \\\n",
    "    .option(\"uri\", \"mongodb://localhost:27017/college.breakingNews\") \\\n",
    "    .load()"
   ]
  }
 ],
 "metadata": {
  "kernelspec": {
   "display_name": "Python 3 (ipykernel)",
   "language": "python",
   "name": "python3"
  },
  "language_info": {
   "codemirror_mode": {
    "name": "ipython",
    "version": 3
   },
   "file_extension": ".py",
   "mimetype": "text/x-python",
   "name": "python",
   "nbconvert_exporter": "python",
   "pygments_lexer": "ipython3",
   "version": "3.10.6"
  }
 },
 "nbformat": 4,
 "nbformat_minor": 5
}
