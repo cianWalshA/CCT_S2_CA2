{
 "cells": [
  {
   "cell_type": "code",
   "execution_count": 1,
   "id": "66806142",
   "metadata": {},
   "outputs": [],
   "source": [
    "#Import Libraries"
   ]
  },
  {
   "cell_type": "code",
   "execution_count": 2,
   "id": "411f6eac",
   "metadata": {},
   "outputs": [],
   "source": [
    "#Define Call Function"
   ]
  },
  {
   "cell_type": "code",
   "execution_count": 3,
   "id": "9fc169c8",
   "metadata": {},
   "outputs": [],
   "source": [
    "#Call Function"
   ]
  },
  {
   "cell_type": "code",
   "execution_count": 4,
   "id": "0a60cd80",
   "metadata": {},
   "outputs": [],
   "source": [
    "#Save Tweets"
   ]
  },
  {
   "cell_type": "code",
   "execution_count": null,
   "id": "6d7c039d",
   "metadata": {},
   "outputs": [],
   "source": []
  }
 ],
 "metadata": {
  "kernelspec": {
   "display_name": "Python 3 (ipykernel)",
   "language": "python",
   "name": "python3"
  },
  "language_info": {
   "codemirror_mode": {
    "name": "ipython",
    "version": 3
   },
   "file_extension": ".py",
   "mimetype": "text/x-python",
   "name": "python",
   "nbconvert_exporter": "python",
   "pygments_lexer": "ipython3",
   "version": "3.10.6"
  }
 },
 "nbformat": 4,
 "nbformat_minor": 5
}
